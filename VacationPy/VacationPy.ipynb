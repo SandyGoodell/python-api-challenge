{
 "cells": [
  {
   "cell_type": "markdown",
   "metadata": {},
   "source": [
    "# VacationPy\n",
    "----\n",
    "\n",
    "#### Note\n",
    "* Keep an eye on your API usage. Use https://developers.google.com/maps/reporting/gmp-reporting as reference for how to monitor your usage and billing.\n",
    "\n",
    "* Instructions have been included for each segment. You do not have to follow them exactly, but they are included to help you think through the steps."
   ]
  },
  {
   "cell_type": "code",
   "execution_count": 1,
   "metadata": {},
   "outputs": [],
   "source": [
    "# Dependencies and Setup\n",
    "import matplotlib.pyplot as plt\n",
    "import pandas as pd\n",
    "import numpy as np\n",
    "import requests\n",
    "import gmaps\n",
    "import os\n",
    "\n",
    "# Import API key\n",
    "from config import g_key"
   ]
  },
  {
   "cell_type": "markdown",
   "metadata": {},
   "source": [
    "### Store Part I results into DataFrame\n",
    "* Load the csv exported in Part I to a DataFrame"
   ]
  },
  {
   "cell_type": "code",
   "execution_count": 2,
   "metadata": {},
   "outputs": [
    {
     "data": {
      "text/html": [
       "<div>\n",
       "<style scoped>\n",
       "    .dataframe tbody tr th:only-of-type {\n",
       "        vertical-align: middle;\n",
       "    }\n",
       "\n",
       "    .dataframe tbody tr th {\n",
       "        vertical-align: top;\n",
       "    }\n",
       "\n",
       "    .dataframe thead th {\n",
       "        text-align: right;\n",
       "    }\n",
       "</style>\n",
       "<table border=\"1\" class=\"dataframe\">\n",
       "  <thead>\n",
       "    <tr style=\"text-align: right;\">\n",
       "      <th></th>\n",
       "      <th>City</th>\n",
       "      <th>Lat</th>\n",
       "      <th>Lng</th>\n",
       "      <th>Max Temp</th>\n",
       "      <th>Humidity</th>\n",
       "      <th>Cloudiness</th>\n",
       "      <th>Wind Speed</th>\n",
       "      <th>Country</th>\n",
       "      <th>Date</th>\n",
       "    </tr>\n",
       "  </thead>\n",
       "  <tbody>\n",
       "    <tr>\n",
       "      <th>0</th>\n",
       "      <td>banjar</td>\n",
       "      <td>-8.1900</td>\n",
       "      <td>114.9675</td>\n",
       "      <td>82.40</td>\n",
       "      <td>83</td>\n",
       "      <td>20</td>\n",
       "      <td>3.44</td>\n",
       "      <td>ID</td>\n",
       "      <td>1612587579</td>\n",
       "    </tr>\n",
       "    <tr>\n",
       "      <th>1</th>\n",
       "      <td>rikitea</td>\n",
       "      <td>-23.1203</td>\n",
       "      <td>-134.9692</td>\n",
       "      <td>78.15</td>\n",
       "      <td>71</td>\n",
       "      <td>52</td>\n",
       "      <td>13.94</td>\n",
       "      <td>PF</td>\n",
       "      <td>1612587580</td>\n",
       "    </tr>\n",
       "    <tr>\n",
       "      <th>2</th>\n",
       "      <td>ormara</td>\n",
       "      <td>25.2088</td>\n",
       "      <td>64.6357</td>\n",
       "      <td>68.18</td>\n",
       "      <td>38</td>\n",
       "      <td>0</td>\n",
       "      <td>2.89</td>\n",
       "      <td>PK</td>\n",
       "      <td>1612587580</td>\n",
       "    </tr>\n",
       "    <tr>\n",
       "      <th>3</th>\n",
       "      <td>itarema</td>\n",
       "      <td>-2.9248</td>\n",
       "      <td>-39.9167</td>\n",
       "      <td>78.98</td>\n",
       "      <td>78</td>\n",
       "      <td>46</td>\n",
       "      <td>11.14</td>\n",
       "      <td>BR</td>\n",
       "      <td>1612587571</td>\n",
       "    </tr>\n",
       "    <tr>\n",
       "      <th>4</th>\n",
       "      <td>yulara</td>\n",
       "      <td>-25.2406</td>\n",
       "      <td>130.9889</td>\n",
       "      <td>86.00</td>\n",
       "      <td>21</td>\n",
       "      <td>62</td>\n",
       "      <td>10.36</td>\n",
       "      <td>AU</td>\n",
       "      <td>1612587575</td>\n",
       "    </tr>\n",
       "    <tr>\n",
       "      <th>...</th>\n",
       "      <td>...</td>\n",
       "      <td>...</td>\n",
       "      <td>...</td>\n",
       "      <td>...</td>\n",
       "      <td>...</td>\n",
       "      <td>...</td>\n",
       "      <td>...</td>\n",
       "      <td>...</td>\n",
       "      <td>...</td>\n",
       "    </tr>\n",
       "    <tr>\n",
       "      <th>552</th>\n",
       "      <td>san quintin</td>\n",
       "      <td>30.4833</td>\n",
       "      <td>-115.9500</td>\n",
       "      <td>57.11</td>\n",
       "      <td>81</td>\n",
       "      <td>0</td>\n",
       "      <td>8.79</td>\n",
       "      <td>MX</td>\n",
       "      <td>1612587571</td>\n",
       "    </tr>\n",
       "    <tr>\n",
       "      <th>553</th>\n",
       "      <td>cruz grande</td>\n",
       "      <td>16.7333</td>\n",
       "      <td>-99.1333</td>\n",
       "      <td>71.60</td>\n",
       "      <td>84</td>\n",
       "      <td>30</td>\n",
       "      <td>2.91</td>\n",
       "      <td>MX</td>\n",
       "      <td>1612587793</td>\n",
       "    </tr>\n",
       "    <tr>\n",
       "      <th>554</th>\n",
       "      <td>dunedin</td>\n",
       "      <td>-45.8742</td>\n",
       "      <td>170.5036</td>\n",
       "      <td>60.01</td>\n",
       "      <td>78</td>\n",
       "      <td>14</td>\n",
       "      <td>23.00</td>\n",
       "      <td>NZ</td>\n",
       "      <td>1612587536</td>\n",
       "    </tr>\n",
       "    <tr>\n",
       "      <th>555</th>\n",
       "      <td>chumikan</td>\n",
       "      <td>54.7183</td>\n",
       "      <td>135.3150</td>\n",
       "      <td>-5.87</td>\n",
       "      <td>86</td>\n",
       "      <td>100</td>\n",
       "      <td>11.68</td>\n",
       "      <td>RU</td>\n",
       "      <td>1612587794</td>\n",
       "    </tr>\n",
       "    <tr>\n",
       "      <th>556</th>\n",
       "      <td>kununurra</td>\n",
       "      <td>-15.7667</td>\n",
       "      <td>128.7333</td>\n",
       "      <td>93.20</td>\n",
       "      <td>59</td>\n",
       "      <td>40</td>\n",
       "      <td>6.91</td>\n",
       "      <td>AU</td>\n",
       "      <td>1612587794</td>\n",
       "    </tr>\n",
       "  </tbody>\n",
       "</table>\n",
       "<p>557 rows × 9 columns</p>\n",
       "</div>"
      ],
      "text/plain": [
       "            City      Lat       Lng  Max Temp  Humidity  Cloudiness  \\\n",
       "0         banjar  -8.1900  114.9675     82.40        83          20   \n",
       "1        rikitea -23.1203 -134.9692     78.15        71          52   \n",
       "2         ormara  25.2088   64.6357     68.18        38           0   \n",
       "3        itarema  -2.9248  -39.9167     78.98        78          46   \n",
       "4         yulara -25.2406  130.9889     86.00        21          62   \n",
       "..           ...      ...       ...       ...       ...         ...   \n",
       "552  san quintin  30.4833 -115.9500     57.11        81           0   \n",
       "553  cruz grande  16.7333  -99.1333     71.60        84          30   \n",
       "554      dunedin -45.8742  170.5036     60.01        78          14   \n",
       "555     chumikan  54.7183  135.3150     -5.87        86         100   \n",
       "556    kununurra -15.7667  128.7333     93.20        59          40   \n",
       "\n",
       "     Wind Speed Country        Date  \n",
       "0          3.44      ID  1612587579  \n",
       "1         13.94      PF  1612587580  \n",
       "2          2.89      PK  1612587580  \n",
       "3         11.14      BR  1612587571  \n",
       "4         10.36      AU  1612587575  \n",
       "..          ...     ...         ...  \n",
       "552        8.79      MX  1612587571  \n",
       "553        2.91      MX  1612587793  \n",
       "554       23.00      NZ  1612587536  \n",
       "555       11.68      RU  1612587794  \n",
       "556        6.91      AU  1612587794  \n",
       "\n",
       "[557 rows x 9 columns]"
      ]
     },
     "execution_count": 2,
     "metadata": {},
     "output_type": "execute_result"
    }
   ],
   "source": [
    "city_data = pd.read_csv('../WeatherPy/city_data.csv',index_col=0)\n",
    "# city_data = city_data.drop(columns=[\"Unnamed: 0\"])\n",
    "city_data\n"
   ]
  },
  {
   "cell_type": "markdown",
   "metadata": {},
   "source": [
    "### Humidity Heatmap\n",
    "* Configure gmaps.\n",
    "* Use the Lat and Lng as locations and Humidity as the weight.\n",
    "* Add Heatmap layer to map."
   ]
  },
  {
   "cell_type": "code",
   "execution_count": 3,
   "metadata": {},
   "outputs": [],
   "source": [
    "# Configure gmaps.\n",
    "gmaps.configure(api_key=g_key)"
   ]
  },
  {
   "cell_type": "code",
   "execution_count": 8,
   "metadata": {},
   "outputs": [
    {
     "data": {
      "text/plain": [
       "100.0"
      ]
     },
     "execution_count": 8,
     "metadata": {},
     "output_type": "execute_result"
    }
   ],
   "source": [
    "# Use the Lat and Lng as locations\n",
    "locations = city_data[[\"Lat\",\"Lng\"]]\n",
    "#locations\n",
    "# Humidity as the weight\n",
    "humidity = city_data[\"Humidity\"].astype(float)\n",
    "maxhumidity = humidity.max()\n",
    "maxhumidity"
   ]
  },
  {
   "cell_type": "code",
   "execution_count": 9,
   "metadata": {},
   "outputs": [
    {
     "data": {
      "application/vnd.jupyter.widget-view+json": {
       "model_id": "1e093c1b50194dc790297f7d44b1e06f",
       "version_major": 2,
       "version_minor": 0
      },
      "text/plain": [
       "Figure(layout=FigureLayout(height='420px'))"
      ]
     },
     "metadata": {},
     "output_type": "display_data"
    }
   ],
   "source": [
    "fig = gmaps.figure(zoom_level=4, center=(39.50, -98.35))\n",
    "\n",
    "heatmap_layer = gmaps.heatmap_layer(locations, weights=humidity,\n",
    "                                   dissipating=False, max_intensity=5,\n",
    "                                   point_radius=1)\n",
    "\n",
    "fig.add_layer(heatmap_layer)\n",
    "\n",
    "fig"
   ]
  },
  {
   "cell_type": "markdown",
   "metadata": {},
   "source": [
    "### Create new DataFrame fitting weather criteria\n",
    "* Narrow down the cities to fit weather conditions.\n",
    "* Drop any rows will null values."
   ]
  },
  {
   "cell_type": "code",
   "execution_count": null,
   "metadata": {},
   "outputs": [],
   "source": []
  },
  {
   "cell_type": "markdown",
   "metadata": {},
   "source": [
    "### Hotel Map\n",
    "* Store into variable named `hotel_df`.\n",
    "* Add a \"Hotel Name\" column to the DataFrame.\n",
    "* Set parameters to search for hotels with 5000 meters.\n",
    "* Hit the Google Places API for each city's coordinates.\n",
    "* Store the first Hotel result into the DataFrame.\n",
    "* Plot markers on top of the heatmap."
   ]
  },
  {
   "cell_type": "code",
   "execution_count": null,
   "metadata": {},
   "outputs": [],
   "source": []
  },
  {
   "cell_type": "code",
   "execution_count": null,
   "metadata": {},
   "outputs": [],
   "source": []
  },
  {
   "cell_type": "code",
   "execution_count": null,
   "metadata": {},
   "outputs": [],
   "source": [
    "# NOTE: Do not change any of the code in this cell\n",
    "\n",
    "# Using the template add the hotel marks to the heatmap\n",
    "info_box_template = \"\"\"\n",
    "<dl>\n",
    "<dt>Name</dt><dd>{Hotel Name}</dd>\n",
    "<dt>City</dt><dd>{City}</dd>\n",
    "<dt>Country</dt><dd>{Country}</dd>\n",
    "</dl>\n",
    "\"\"\"\n",
    "# Store the DataFrame Row\n",
    "# NOTE: be sure to update with your DataFrame name\n",
    "hotel_info = [info_box_template.format(**row) for index, row in hotel_df.iterrows()]\n",
    "locations = hotel_df[[\"Lat\", \"Lng\"]]"
   ]
  },
  {
   "cell_type": "code",
   "execution_count": null,
   "metadata": {},
   "outputs": [],
   "source": [
    "# Add marker layer ontop of heat map\n",
    "\n",
    "\n",
    "# Display figure\n"
   ]
  },
  {
   "cell_type": "code",
   "execution_count": null,
   "metadata": {},
   "outputs": [],
   "source": []
  }
 ],
 "metadata": {
  "kernelspec": {
   "display_name": "Python 3",
   "language": "python",
   "name": "python3"
  },
  "language_info": {
   "codemirror_mode": {
    "name": "ipython",
    "version": 3
   },
   "file_extension": ".py",
   "mimetype": "text/x-python",
   "name": "python",
   "nbconvert_exporter": "python",
   "pygments_lexer": "ipython3",
   "version": "3.8.5"
  },
  "latex_envs": {
   "LaTeX_envs_menu_present": true,
   "autoclose": false,
   "autocomplete": true,
   "bibliofile": "biblio.bib",
   "cite_by": "apalike",
   "current_citInitial": 1,
   "eqLabelWithNumbers": true,
   "eqNumInitial": 1,
   "hotkeys": {
    "equation": "Ctrl-E",
    "itemize": "Ctrl-I"
   },
   "labels_anchors": false,
   "latex_user_defs": false,
   "report_style_numbering": false,
   "user_envs_cfg": false
  }
 },
 "nbformat": 4,
 "nbformat_minor": 4
}
